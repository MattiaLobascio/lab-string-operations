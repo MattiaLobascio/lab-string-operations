{
 "cells": [
  {
   "cell_type": "markdown",
   "metadata": {},
   "source": [
    "# String Operations Lab\n",
    "\n",
    "**Before your start:**\n",
    "\n",
    "- Read the README.md file\n",
    "- Comment as much as you can and use the resources in the README.md file\n",
    "- Happy learning!"
   ]
  },
  {
   "cell_type": "code",
   "execution_count": 3,
   "metadata": {},
   "outputs": [],
   "source": [
    "import re"
   ]
  },
  {
   "cell_type": "markdown",
   "metadata": {},
   "source": [
    "# Challenge 1 - Combining Strings\n",
    "\n",
    "Combining strings is an important skill to acquire. There are multiple ways of combining strings in Python, as well as combining strings with variables. We will explore this in the first challenge. In the cell below, combine the strings in the list and add spaces between the strings (do not add a space after the last string). Insert a period after the last string."
   ]
  },
  {
   "cell_type": "code",
   "execution_count": 4,
   "metadata": {},
   "outputs": [
    {
     "data": {
      "text/plain": [
       "'Durante un tiempo no estuvo segura de si su marido era su marido.'"
      ]
     },
     "execution_count": 4,
     "metadata": {},
     "output_type": "execute_result"
    }
   ],
   "source": [
    "str_list = ['Durante', 'un', 'tiempo', 'no', 'estuvo', 'segura', 'de', 'si', 'su', 'marido', 'era', 'su', 'marido']\n",
    "# Your code here:\n",
    "\n",
    "string = \" \".join(str_list)\n",
    "string.strip() + \".\"\n"
   ]
  },
  {
   "cell_type": "markdown",
   "metadata": {},
   "source": [
    "In the cell below, use the list of strings to create a grocery list. Start the list with the string `Grocery list: ` and include a comma and a space between each item except for the last one. Include a period at the end. Only include foods in the list that start with the letter 'b' and ensure all foods are lower case."
   ]
  },
  {
   "cell_type": "code",
   "execution_count": 5,
   "metadata": {},
   "outputs": [
    {
     "name": "stdout",
     "output_type": "stream",
     "text": [
      "Grocery list: bananas, bread, brownie mix, broccoli.\n"
     ]
    }
   ],
   "source": [
    "food_list = ['Bananas', 'Chocolate', 'bread', 'diapers', 'Ice Cream', 'Brownie Mix', 'broccoli']\n",
    "# Your code here:\n",
    "grocery_list = [food_list[i].lower() for i in range(len(food_list)) if food_list[i].lower().startswith(\"b\")]\n",
    "\n",
    "print(\"Grocery list: \" + \", \".join(grocery_list) + \".\")"
   ]
  },
  {
   "cell_type": "markdown",
   "metadata": {},
   "source": [
    "In the cell below, write a function that computes the area of a circle using its radius. Compute the area of the circle and insert the radius and the area between the two strings. Make sure to include spaces between the variable and the strings. \n",
    "\n",
    "Note: You can use the techniques we have learned so far or use f-strings. F-strings allow us to embed code inside strings. You can read more about f-strings [here](https://www.python.org/dev/peps/pep-0498/)."
   ]
  },
  {
   "cell_type": "code",
   "execution_count": 8,
   "metadata": {},
   "outputs": [
    {
     "name": "stdout",
     "output_type": "stream",
     "text": [
      "The area of the circle with radius: 5\n",
      "Is: 78.53981633974483\n"
     ]
    }
   ],
   "source": [
    "import math\n",
    "\n",
    "string1 = \"The area of the circle with radius:\"\n",
    "string2  = \"Is:\"\n",
    "radius = float(input(f\"{string1} \"))\n",
    "\n",
    "def area(x, pi = math.pi):\n",
    "    # This function takes a radius and returns the area of a circle. We also pass a default value for pi.\n",
    "    # Input: Float (and default value for pi)\n",
    "    # Output: Float\n",
    "    \n",
    "    # Sample input: 5.0\n",
    "    # Sample Output: 78.53981633\n",
    "    \n",
    "    # Your code here:\n",
    "    return pi * (x**2)\n",
    "\n",
    "circle_area = area(radius)\n",
    "# Your output string here:\n",
    "print(f\"{string2} {circle_area}\")"
   ]
  },
  {
   "cell_type": "markdown",
   "metadata": {},
   "source": [
    "# Challenge 2 - Splitting Strings\n",
    "\n",
    "We have first looked at combining strings into one long string. There are times where we need to do the opposite and split the string into smaller components for further analysis. \n",
    "\n",
    "In the cell below, split the string into a list of strings using the space delimiter. Count the frequency of each word in the string in a dictionary. Strip the periods, line breaks and commas from the text. Make sure to remove empty strings from your dictionary."
   ]
  },
  {
   "cell_type": "code",
   "execution_count": 9,
   "metadata": {},
   "outputs": [
    {
     "name": "stdout",
     "output_type": "stream",
     "text": [
      "Some say the world will end in fire Some say in ice From what I’ve tasted of desire I hold with those who favor fire But if it had to perish twice I think I know enough of hate To say that for destruction ice Is also great And would suffice\n",
      "['Some', 'say', 'the', 'world', 'will', 'end', 'in', 'fire', 'Some', 'say', 'in', 'ice', 'From', 'what', 'I’ve', 'tasted', 'of', 'desire', 'I', 'hold', 'with', 'those', 'who', 'favor', 'fire', 'But', 'if', 'it', 'had', 'to', 'perish', 'twice', 'I', 'think', 'I', 'know', 'enough', 'of', 'hate', 'To', 'say', 'that', 'for', 'destruction', 'ice', 'Is', 'also', 'great', 'And', 'would', 'suffice']\n",
      "{'And': 1, 'But': 1, 'From': 1, 'I': 5, 'Is': 1, 'I’ve': 1, 'Some': 2, 'To': 1, 'Also': 1, 'Desire': 1, 'Destruction': 1, 'End': 1, 'Enough': 1, 'Favor': 1, 'Fire': 2, 'For': 1, 'Great': 1, 'Had': 1, 'Hate': 1, 'Hold': 1, 'Ice': 4, 'If': 1, 'In': 3, 'It': 2, 'Know': 1, 'Of': 2, 'Perish': 1, 'Say': 3, 'Suffice': 1, 'Tasted': 1, 'That': 1, 'The': 1, 'Think': 1, 'Those': 1, 'Twice': 1, 'What': 1, 'Who': 1, 'Will': 1, 'With': 1, 'World': 1, 'Would': 1}\n"
     ]
    }
   ],
   "source": [
    "poem = \"\"\"Some say the world will end in fire,\n",
    "Some say in ice.\n",
    "From what I’ve tasted of desire\n",
    "I hold with those who favor fire.\n",
    "But if it had to perish twice,\n",
    "I think I know enough of hate\n",
    "To say that for destruction ice\n",
    "Is also great\n",
    "And would suffice.\"\"\"\n",
    "\n",
    "# Your code here:\n",
    "stripped_poem = poem.replace(\",\",\"\").replace(\".\",\"\").replace(\"\\n\",\" \")\n",
    "\n",
    "print(stripped_poem)\n",
    "\n",
    "poem_lst = stripped_poem.split()\n",
    "\n",
    "print(poem_lst)\n",
    "\n",
    "freq = {}\n",
    "\n",
    "for word in sorted(set(poem_lst)):\n",
    "    freq[word.capitalize()] = len(re.findall(word, stripped_poem))\n",
    "\n",
    "print(freq)"
   ]
  },
  {
   "cell_type": "markdown",
   "metadata": {},
   "source": [
    "In the cell below, find all the words that appear in the text and do not appear in the blacklist. You must parse the string but can choose any data structure you wish for the words that do not appear in the blacklist. Remove all non letter characters and convert all words to lower case."
   ]
  },
  {
   "cell_type": "code",
   "execution_count": 32,
   "metadata": {},
   "outputs": [
    {
     "name": "stdout",
     "output_type": "stream",
     "text": [
      "i was angry with my friend i told my wrath my wrath did endi was angry with my foe i told it not my wrath did grow and i waterd it in fearsnight  morning with my tears and i sunned it with smilesand with soft deceitful wiles and it grew both day and night till it bore an apple bright and my foe beheld it shineand he knew that it was mine and into my garden stole when the night had veild the pole in the morning glad i see my foe outstretched beneath the tree\n",
      "['an', 'and', 'and', 'and', 'and', 'and', 'and', 'angry', 'angry', 'apple', 'beheld', 'beneath', 'bore', 'both', 'bright', 'day', 'deceitful', 'did', 'did', 'endi', 'fearsnight', 'foe', 'foe', 'foe', 'friend', 'garden', 'glad', 'grew', 'grow', 'had', 'he', 'i', 'i', 'i', 'i', 'i', 'i', 'in', 'in', 'into', 'it', 'it', 'it', 'it', 'it', 'it', 'it', 'knew', 'mine', 'morning', 'morning', 'my', 'my', 'my', 'my', 'my', 'my', 'my', 'my', 'my', 'night', 'night', 'not', 'outstretched', 'pole', 'see', 'shineand', 'smilesand', 'soft', 'stole', 'sunned', 'tears', 'that', 'the', 'the', 'the', 'the', 'till', 'told', 'told', 'tree', 'veild', 'was', 'was', 'was', 'waterd', 'when', 'wiles', 'with', 'with', 'with', 'with', 'with', 'wrath', 'wrath', 'wrath']\n",
      "{'That': 1, 'Told': 2, 'Into': 1, 'Smilesand': 1, 'Beneath': 1, 'Had': 1, 'Bright': 1, 'Grow': 1, 'Knew': 1, 'Wiles': 1, 'Foe': 3, 'Was': 3, 'Friend': 1, 'I': 38, 'Shineand': 1, 'Endi': 1, 'Did': 2, 'Fearsnight': 1, 'He': 8, 'Wrath': 3, 'Bore': 1, 'Morning': 2, 'Tree': 1, 'Not': 1, 'See': 1, 'Stole': 1, 'Both': 1, 'Soft': 1, 'Outstretched': 1, 'Mine': 1, 'Glad': 1, 'When': 1, 'Angry': 2, 'Garden': 1, 'Sunned': 1, 'Apple': 1, 'Beheld': 1, 'Grew': 1, 'Tears': 1, 'My': 9, 'Pole': 1, 'Waterd': 1, 'With': 5, 'Deceitful': 1, 'Till': 1, 'Veild': 1, 'Night': 3, 'Day': 1}\n"
     ]
    }
   ],
   "source": [
    "blacklist = ['and', 'as', 'an', 'a', 'the', 'in', 'it']\n",
    "\n",
    "poem = \"\"\"I was angry with my friend; \n",
    "I told my wrath, my wrath did end.\n",
    "I was angry with my foe: \n",
    "I told it not, my wrath did grow. \n",
    "\n",
    "And I waterd it in fears,\n",
    "Night & morning with my tears: \n",
    "And I sunned it with smiles,\n",
    "And with soft deceitful wiles. \n",
    "\n",
    "And it grew both day and night. \n",
    "Till it bore an apple bright. \n",
    "And my foe beheld it shine,\n",
    "And he knew that it was mine. \n",
    "\n",
    "And into my garden stole, \n",
    "When the night had veild the pole; \n",
    "In the morning glad I see; \n",
    "My foe outstretched beneath the tree.\"\"\"\n",
    "\n",
    "# Your code here:\n",
    "conv_poem = poem.replace(\"&\",\"\").replace(\".\",\"\").replace(\",\",\"\")\n",
    "conv_poem = conv_poem.replace(\";\",\"\").replace(\":\",\"\").replace(\"\\n\",\"\")\n",
    "conv_poem = conv_poem.lower()\n",
    "print(conv_poem)\n",
    "\n",
    "conv_poem_lst = sorted(conv_poem.split())\n",
    "\n",
    "print(conv_poem_lst)\n",
    "\n",
    "goodlist = {}\n",
    "\n",
    "for word in set(conv_poem_lst):\n",
    "    if word in blacklist:\n",
    "        continue\n",
    "    else:\n",
    "        goodlist[word.capitalize()] = len(re.findall(word, conv_poem))\n",
    "    \n",
    "print(goodlist)"
   ]
  },
  {
   "cell_type": "markdown",
   "metadata": {},
   "source": [
    "# Challenge 3 - Regular Expressions\n",
    "\n",
    "Sometimes, we would like to perform more complex manipulations of our string. This is where regular expressions come in handy. In the cell below, return all characters that are upper case from the string specified below."
   ]
  },
  {
   "cell_type": "code",
   "execution_count": 96,
   "metadata": {},
   "outputs": [
    {
     "name": "stdout",
     "output_type": "stream",
     "text": [
      "['T', 'P']\n"
     ]
    }
   ],
   "source": [
    "import re\n",
    "\n",
    "poem = \"\"\"The apparition of these faces in the crowd;\n",
    "Petals on a wet, black bough.\"\"\"\n",
    "\n",
    "# Your code here:\n",
    "upper = re.findall(\"[A-Z]\", poem)\n",
    "\n",
    "print(upper)"
   ]
  },
  {
   "cell_type": "markdown",
   "metadata": {},
   "source": [
    "In the cell below, filter the list provided and return all elements of the list containing a number. To filter the list, use the `re.search` function. Check if the function does not return `None`. You can read more about the `re.search` function [here](https://docs.python.org/3/library/re.html)."
   ]
  },
  {
   "cell_type": "code",
   "execution_count": 98,
   "metadata": {},
   "outputs": [
    {
     "name": "stdout",
     "output_type": "stream",
     "text": [
      "['123abc', 'abc123', 'JohnSmith1', 'ABBY4']\n"
     ]
    }
   ],
   "source": [
    "data = ['123abc', 'abc123', 'JohnSmith1', 'ABBY4', 'JANE']\n",
    "\n",
    "# Your code here:\n",
    "filt_data = [i for i in data if re.search(\"[0-9]\", i)]\n",
    "\n",
    "print(filt_data)"
   ]
  },
  {
   "cell_type": "markdown",
   "metadata": {},
   "source": [
    "# Bonus Challenge - Regular Expressions II\n",
    "\n",
    "In the cell below, filter the list provided to keep only strings containing at least one digit and at least one lower case letter. As in the previous question, use the `re.search` function and check that the result is not `None`.\n",
    "\n",
    "To read more about regular expressions, check out [this link](https://developers.google.com/edu/python/regular-expressions)."
   ]
  },
  {
   "cell_type": "code",
   "execution_count": 99,
   "metadata": {},
   "outputs": [
    {
     "name": "stdout",
     "output_type": "stream",
     "text": [
      "['123abc', 'abc123', 'JohnSmith1']\n"
     ]
    }
   ],
   "source": [
    "data = ['123abc', 'abc123', 'JohnSmith1', 'ABBY4', 'JANE']\n",
    "# Your code here:\n",
    "\n",
    "filt_data = [i for i in data if re.search(\"[0-9]\", i) and re.search(\"[a-z]\", i)]\n",
    "\n",
    "print(filt_data)"
   ]
  },
  {
   "cell_type": "code",
   "execution_count": null,
   "metadata": {},
   "outputs": [],
   "source": []
  }
 ],
 "metadata": {
  "celltoolbar": "Raw Cell Format",
  "kernelspec": {
   "display_name": "Python 3",
   "language": "python",
   "name": "python3"
  },
  "language_info": {
   "codemirror_mode": {
    "name": "ipython",
    "version": 3
   },
   "file_extension": ".py",
   "mimetype": "text/x-python",
   "name": "python",
   "nbconvert_exporter": "python",
   "pygments_lexer": "ipython3",
   "version": "3.6.8"
  }
 },
 "nbformat": 4,
 "nbformat_minor": 2
}
